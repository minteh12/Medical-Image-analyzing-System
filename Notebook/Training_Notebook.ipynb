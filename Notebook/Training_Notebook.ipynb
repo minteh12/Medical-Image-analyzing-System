{
  "nbformat": 4,
  "nbformat_minor": 0,
  "metadata": {
    "colab": {
      "provenance": []
    },
    "kernelspec": {
      "name": "python3",
      "display_name": "Python 3"
    },
    "language_info": {
      "name": "python"
    }
  },
  "cells": [
    {
      "cell_type": "code",
      "execution_count": null,
      "metadata": {
        "id": "Q8GZDox_gitV"
      },
      "outputs": [],
      "source": [
        "!pip install tensorflow==2.16.0rc0"
      ]
    },
    {
      "cell_type": "code",
      "source": [
        "import tensorflow as tf\n",
        "from tensorflow.keras import models, layers\n",
        "import matplotlib.pyplot as plt"
      ],
      "metadata": {
        "id": "oQb1Rj_3gzUc"
      },
      "execution_count": null,
      "outputs": []
    },
    {
      "cell_type": "code",
      "source": [
        "tf.__version__"
      ],
      "metadata": {
        "id": "r3tIIhZ1g8Na"
      },
      "execution_count": null,
      "outputs": []
    },
    {
      "cell_type": "code",
      "source": [
        "from google.colab import drive\n",
        "drive.mount('/content/drive')"
      ],
      "metadata": {
        "id": "0JOurs-8g8_p"
      },
      "execution_count": null,
      "outputs": []
    },
    {
      "cell_type": "code",
      "source": [
        "IMAGE_SIZE = 256\n",
        "CHANNELS = 3"
      ],
      "metadata": {
        "id": "o-FPxad1g_YP"
      },
      "execution_count": null,
      "outputs": []
    },
    {
      "cell_type": "code",
      "source": [
        "rom tensorflow.keras.preprocessing.image import ImageDataGenerator\n",
        "\n",
        "train_datagen = ImageDataGenerator(\n",
        "        rescale=1./255,\n",
        "        rotation_range=10,\n",
        "        horizontal_flip=True\n",
        "        )\n",
        "train_generator = train_datagen.flow_from_directory(\n",
        "        '/content/drive/MyDrive/EthioMedScan/dataset/LC_DataSet/train',\n",
        "        target_size=(IMAGE_SIZE,IMAGE_SIZE),\n",
        "        batch_size=128,\n",
        "        class_mode=\"sparse\",\n",
        "\n",
        ")"
      ],
      "metadata": {
        "id": "9Ge0yeqohCv-"
      },
      "execution_count": null,
      "outputs": []
    },
    {
      "cell_type": "code",
      "source": [
        "train_generator.class_indices"
      ],
      "metadata": {
        "id": "kXoSmjHxhLpe"
      },
      "execution_count": null,
      "outputs": []
    },
    {
      "cell_type": "code",
      "source": [
        "class_names = list(train_generator.class_indices.keys())\n",
        "class_names"
      ],
      "metadata": {
        "id": "tCCYrCDohPsu"
      },
      "execution_count": null,
      "outputs": []
    },
    {
      "cell_type": "code",
      "source": [
        "count=0\n",
        "for image_batch, label_batch in train_generator:\n",
        "\n",
        "    print(image_batch[0])\n",
        "    break\n"
      ],
      "metadata": {
        "id": "OJQTdgAshT_O"
      },
      "execution_count": null,
      "outputs": []
    },
    {
      "cell_type": "code",
      "source": [
        "alidation_datagen = ImageDataGenerator(\n",
        "        rescale=1./255,\n",
        "        rotation_range=10,\n",
        "        horizontal_flip=True)\n",
        "validation_generator = validation_datagen.flow_from_directory(\n",
        "        '/content/drive/MyDrive/EthioMedScan/dataset/LC_DataSet/valid',\n",
        "        target_size=(IMAGE_SIZE,IMAGE_SIZE),\n",
        "        batch_size=128,\n",
        "        class_mode=\"sparse\"\n",
        ")"
      ],
      "metadata": {
        "id": "dUnA9eofhXUK"
      },
      "execution_count": null,
      "outputs": []
    },
    {
      "cell_type": "code",
      "source": [
        "est_datagen = ImageDataGenerator(\n",
        "        rescale=1./255,\n",
        "        rotation_range=10,\n",
        "        horizontal_flip=True)\n",
        "\n",
        "test_generator = test_datagen.flow_from_directory(\n",
        "        '/content/drive/MyDrive/EthioMedScan/dataset/LC_DataSet/test',\n",
        "        target_size=(IMAGE_SIZE,IMAGE_SIZE),\n",
        "        batch_size=64,\n",
        "        class_mode=\"sparse\"\n",
        ")"
      ],
      "metadata": {
        "id": "oNmoL_6xha6u"
      },
      "execution_count": null,
      "outputs": []
    },
    {
      "cell_type": "code",
      "source": [
        "for image_batch, label_batch in test_generator:\n",
        "    print(image_batch[0])\n",
        "    break"
      ],
      "metadata": {
        "id": "rEHi2p4thiEJ"
      },
      "execution_count": null,
      "outputs": []
    },
    {
      "cell_type": "code",
      "source": [
        "import tensorflow as tf\n",
        "from tensorflow.keras import layers, models, optimizers\n",
        "from sklearn.metrics import accuracy_score, precision_score, recall_score, f1_score, roc_auc_score, confusion_matrix, ConfusionMatrixDisplay\n",
        "import matplotlib.pyplot as plt\n",
        "\n",
        "# Define constants\n",
        "IMAGE_SIZE = 256\n",
        "CHANNELS = 3\n",
        "input_shape = (IMAGE_SIZE, IMAGE_SIZE, CHANNELS)\n",
        "n_classes = 10\n",
        "\n",
        "# Define the model\n",
        "model = models.Sequential([\n",
        "    layers.InputLayer(input_shape=input_shape),\n",
        "    layers.Conv2D(32, kernel_size=(3, 3), activation='relu'),\n",
        "    layers.MaxPooling2D((2, 2)),\n",
        "    layers.Conv2D(64, kernel_size=(3, 3), activation='relu'),\n",
        "    layers.MaxPooling2D((2, 2)),\n",
        "    layers.Conv2D(64, kernel_size=(3, 3), activation='relu'),\n",
        "    layers.MaxPooling2D((2, 2)),\n",
        "    layers.Conv2D(64, (3, 3), activation='relu'),\n",
        "    layers.MaxPooling2D((2, 2)),\n",
        "    layers.Conv2D(64, (3, 3), activation='relu'),\n",
        "    layers.MaxPooling2D((2, 2)),\n",
        "    layers.Conv2D(64, (3, 3), activation='relu'),\n",
        "    layers.MaxPooling2D((2, 2)),\n",
        "    layers.Flatten(),\n",
        "    layers.Dense(64, activation='relu'),\n",
        "    layers.Dense(n_classes, activation='softmax'),\n",
        "])\n",
        "\n",
        "# Define the optimizer and learning rate\n",
        "learning_rate = 0.001\n",
        "model.compile(\n",
        "    optimizer=optimizers.Adam(learning_rate=learning_rate),\n",
        "    loss=tf.keras.losses.SparseCategoricalCrossentropy(from_logits=False),\n",
        "    metrics=['accuracy']\n",
        ")\n",
        "\n",
        "# Train the model\n",
        "history = model.fit(\n",
        "    train_generator,\n",
        "    batch_size=64,\n",
        "    validation_data=validation_generator,\n",
        "    verbose=1,\n",
        "    epochs=50,\n",
        ")\n",
        "\n",
        "\n"
      ],
      "metadata": {
        "id": "OSo_Q7LohjLa"
      },
      "execution_count": null,
      "outputs": []
    },
    {
      "cell_type": "code",
      "source": [
        "# Evaluate the model on the validation set\n",
        "validation_loss, validation_accuracy = model.evaluate(validation_generator, verbose=0)\n",
        "\n",
        "# Predict the labels for the validation set\n",
        "predictions = model.predict(validation_generator)\n",
        "predicted_labels = tf.math.argmax(predictions, axis=1)\n",
        "\n",
        "# Calculate metrics\n",
        "accuracy = accuracy_score(validation_generator.labels, predicted_labels)\n",
        "precision = precision_score(validation_generator.labels, predicted_labels, average='macro')\n",
        "recall = recall_score(validation_generator.labels, predicted_labels, average='macro')\n",
        "f1 = f1_score(validation_generator.labels, predicted_labels, average='macro')\n",
        "roc_auc = roc_auc_score(validation_generator.labels, predictions, multi_class='ovr')\n",
        "\n",
        "# Print the results\n",
        "print('Validation Loss:', validation_loss)\n",
        "print('Validation Accuracy:', validation_accuracy)\n",
        "print('Accuracy:', accuracy)\n",
        "print('Precision:', precision)\n",
        "print('Recall:', recall)\n",
        "print('F1-Score:', f1)\n",
        "print('ROC AUC:', roc_auc)\n",
        "\n",
        "# Plot the training and validation losses\n",
        "plt.plot(history.history['loss'], label='Training Loss')\n",
        "plt.plot(history.history['val_loss'], label='Validation Loss')\n",
        "plt.xlabel('Epoch')\n",
        "plt.ylabel('Loss')\n",
        "plt.legend()\n",
        "plt.show()\n",
        "\n",
        "# Plot the training and validation accuracies\n",
        "plt.plot(history.history['accuracy'], label='Training Accuracy')\n",
        "plt.plot(history.history['val_accuracy'], label='Validation Accuracy')\n",
        "plt.xlabel('Epoch')\n",
        "plt.ylabel('Accuracy')\n",
        "plt.legend()\n",
        "plt.show()\n",
        "\n",
        "# Compute the confusion matrix\n",
        "cm = confusion_matrix(validation_generator.labels, predicted_labels)\n",
        "\n",
        "# Plot the confusion matrix\n",
        "disp = ConfusionMatrixDisplay(confusion_matrix=cm, display_labels=list(validation_generator.class_indices.keys()))\n",
        "disp.plot(cmap=plt.cm.Blues)\n",
        "plt.show()"
      ],
      "metadata": {
        "id": "XUUGh3peYoo8"
      },
      "execution_count": null,
      "outputs": []
    },
    {
      "cell_type": "code",
      "source": [
        "#save Yuur model\n",
        "model.save(\"/content/drive/MyDrive/EthioMedScan/SavedModels/Lungcancer1.h5\")\n"
      ],
      "metadata": {
        "id": "tL-SDx5ghsoy"
      },
      "execution_count": null,
      "outputs": []
    },
    {
      "cell_type": "code",
      "source": [
        "model.summary()"
      ],
      "metadata": {
        "id": "NMmQaEc-h2Ro"
      },
      "execution_count": null,
      "outputs": []
    }
  ]
}